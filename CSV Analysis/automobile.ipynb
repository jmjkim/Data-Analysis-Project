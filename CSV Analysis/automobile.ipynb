{
    "cells": [
        {
            "cell_type": "code",
            "execution_count": 45,
            "source": [
                "# Data Reference: Automobile. (1987). UCI Machine Learning Repository.\n",
                "import numpy as np \n",
                "import pandas as pd\n",
                "import seaborn as sns\n",
                "import matplotlib.pyplot as plt\n",
                "from scipy import stats"
            ],
            "outputs": [],
            "metadata": {}
        },
        {
            "cell_type": "code",
            "execution_count": null,
            "source": [
                "csv = pd.read_csv(\"/Users/jk/Desktop/A/Study/Data Analysis/Practice Folder/automobile.csv\")\n",
                "\n",
                "### Data Formatting Block\n",
                "pd.set_option(\"display.max_rows\", None)\n",
                "\n",
                "df = pd.DataFrame(csv.replace(\"?\", np.NaN))\n",
                "df.dropna(inplace = True) # Drop NaN values\n",
                "df = pd.get_dummies(df, columns=['fuel-type']) # Divide \"fuel-type\" column values into 0, 1\n",
                "df[\"price\"] = df[\"price\"].astype(int) # Convert float64 to in64 for linspace function"
            ],
            "outputs": [],
            "metadata": {}
        },
        {
            "cell_type": "code",
            "execution_count": null,
            "source": [
                "### Data Binning Block \n",
                "bins = np.linspace(min(df[\"price\"]), max(df[\"price\"]), 4)\n",
                "bin_label = [\"Low\", \"Medium\", \"High\"]\n",
                "df[\"price-binned\"] = pd.cut(df[\"price\"], bins, labels = bin_label, include_lowest = True) \n",
                "\n",
                "df = df[['make', 'price', 'price-binned', 'symboling', 'aspiration', 'num-of-doors', 'fuel-type_diesel', 'fuel-type_gas', 'body-style', 'drive-wheels', 'engine-location', 'wheel-base', 'length', 'width', 'height', 'curb-weight', 'engine-type', 'num-of-cylinders', 'engine-size', 'fuel-system', 'bore', 'stroke', 'compression-ratio', 'horsepower', 'peak-rpm', 'city-mpg', 'highway-mpg', 'normalized-losses']]"
            ],
            "outputs": [],
            "metadata": {}
        },
        {
            "cell_type": "code",
            "execution_count": null,
            "source": [
                "### Data Normalization Block\n",
                "df[\"length\"] = df[\"length\"]/df[\"length\"].max() # standarize scale of the size value\n",
                "df[\"height\"] = df[\"height\"]/df[\"height\"].max() \n",
                "df[\"width\"] = df[\"width\"]/df[\"width\"].max() # "
            ],
            "outputs": [],
            "metadata": {}
        },
        {
            "cell_type": "code",
            "execution_count": null,
            "source": [
                "### Quantitative Table \n",
                "# price_binned_count = df[\"price-binned\"].value_counts().to_frame()\n",
                "# price_binned_count.rename(columns = {\"price-binned\":\"value_counts\"}, inplace = True)\n",
                "\n",
                "# display(price_binned_count)"
            ],
            "outputs": [],
            "metadata": {}
        },
        {
            "cell_type": "code",
            "execution_count": null,
            "source": [
                "### Data Visualization Block 1\n",
                "## Correlation between engine-size vs price which indicates that engine-size is a good predictor of price\n",
                "x = df[\"engine-size\"]\n",
                "\n",
                "plt.title(\"Scatter plot of Engine Size vs Price\")\n",
                "plt.xlabel(\"Engine Size\")\n",
                "plt.ylabel(\"Price\")\n",
                "\n",
                "sns.regplot(x = \"engine-size\", y = \"price\", data = df)\n",
                "plt.ylim(0, )\n",
                "\n",
                "plt.scatter(x, y)\n",
                "\n",
                "# pearson_coef, p_value = stats.pearsonr(df[\"horsepower\"], df[\"price\"])\n",
                "# display(pearson_coef, p_value)\n",
                "\n",
                "display(df.describe(include=[\"object\"]) ,df)"
            ],
            "outputs": [],
            "metadata": {}
        }
    ],
    "metadata": {
        "orig_nbformat": 4,
        "language_info": {
            "name": "python",
            "version": "3.9.6",
            "mimetype": "text/x-python",
            "codemirror_mode": {
                "name": "ipython",
                "version": 3
            },
            "pygments_lexer": "ipython3",
            "nbconvert_exporter": "python",
            "file_extension": ".py"
        },
        "kernelspec": {
            "name": "python3",
            "display_name": "Python 3.9.6 64-bit ('storefront-IGELShD9': venv)"
        },
        "interpreter": {
            "hash": "8b1e0257e972470d513e9c28714b940792ea083f619938dcef1380b020fbf00a"
        }
    },
    "nbformat": 4,
    "nbformat_minor": 2
}