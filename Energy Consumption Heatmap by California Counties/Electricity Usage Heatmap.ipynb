{
 "cells": [
  {
   "cell_type": "code",
   "execution_count": 1,
   "source": [
    "# Electricity & Gas Consumption Heat Map by California Counties\n",
    "# Energy Usage Data Resource from California Energy Commission (https://www.energy.ca.gov/)\n",
    "# County Border Resource from Opendatasoft (https://hifld-dhs-gii.opendata.arcgis.com/datasets/53270fe7036f428fbfb11c4511994a6f_0)\n",
    "\n",
    "# Importing Block\n",
    "import geopandas as gpd\n",
    "import pandas as pd\n",
    "import numpy as np\n",
    "import json\n",
    "import folium"
   ],
   "outputs": [],
   "metadata": {}
  },
  {
   "cell_type": "code",
   "execution_count": 82,
   "source": [
    "# All Usage Expressed in Millions of kWh (GWh)\n",
    "# All electricity usages are total of residential and non-residential\n",
    "\n",
    "###### Note\n",
    "\"\"\"\n",
    "1. Keep thinking about what needs to be done\n",
    "2. Make county border lines and a county marker including a tooltip that contains an Total of and an average of energy usages + energy heatmap indicator\n",
    "\n",
    "- Add Geo Points for each county\n",
    "- Extract values from 'coordinates' (json? dict?, type = np.ndarray with one dimension) and add to the map\n",
    "\n",
    "\"\"\"\n",
    "######\n",
    "\n",
    "\n",
    "### Data Path Block\n",
    "usage_df = pd.read_csv('/Users/jk/Desktop/A/Study/github/Data-Analysis-Project/Energy Consumption Heatmap by California Counties/ElectricityByCounty_1990_2019.csv')\n",
    "county_df = pd.read_csv('/Users/jk/Desktop/A/Study/github/Data-Analysis-Project/Energy Consumption Heatmap by California Counties/us-county-boundaries.csv', sep = ';')\n",
    "\n",
    "\n",
    "### Data Formatting Block\n",
    "pd.set_option('display.max_columns', None)\n",
    "pd.set_option('display.max_rows', None)\n",
    "\n",
    "usage_df.drop(columns = ['Sector'], \n",
    "              inplace = True) # To drop 'Sector' (value: Total) column\n",
    "\n",
    "years = list(map(str, range(1990, 2020))) # Convert columns of each year to str value for line ???\n",
    "usage_df[years] = usage_df[years].astype(int)\n",
    "usage_df['Total Usage'] = usage_df['Total Usage'].astype(int) \n",
    "\n",
    "ca_county = county_df[county_df['STUSAB'] == 'CA']\n",
    "ca_county = ca_county[['NAME', \n",
    "                       'Geo Point', \n",
    "                       'Geo Shape']].sort_values(by = 'NAME')\n",
    "ca_county.set_index([pd.Index(list(map(int, range(1, 59))))], inplace = True) # Add index 1 - 58\n",
    "\n",
    "\n",
    "\n",
    "### Folium Setting Block\n",
    "ca_map = folium.Map(location = [36.7783, -119.4179],\n",
    "                    width = 640, \n",
    "                    height = 700, \n",
    "                    zoom_start = 6, \n",
    "                    min_zoom = 6) # California lat, long\n",
    "\n",
    "\n",
    "for x in ca_county['Geo Point'][1].split(','):\n",
    "    print(x)\n",
    "\n",
    "# for name in ca_county['NAME']:\n",
    "    # county_marker = foliumn.Marker(location = [ , ], popup = f'<i>{name}<\\i>').add_to(ca_map)\n",
    "\n",
    "\n",
    "# ccc_marker = folium.Marker(location = [37.8534, -121.9018], popup = '<i>Contra Costa County</i>', tooltip = 'Contra Costa County').add_to(ca_map)\n",
    "# # contra_costa_border = folium.Popup(locations = [aa]).add_to(ca_map)\n",
    "\n",
    "display(type(ca_county['Geo Point'][1].split()))\n",
    "\n"
   ],
   "outputs": [
    {
     "output_type": "stream",
     "name": "stdout",
     "text": [
      "37.6504930265\n",
      "-121.917998966\n"
     ]
    },
    {
     "output_type": "display_data",
     "data": {
      "text/plain": [
       "list"
      ]
     },
     "metadata": {}
    }
   ],
   "metadata": {}
  }
 ],
 "metadata": {
  "orig_nbformat": 4,
  "language_info": {
   "name": "python",
   "version": "3.9.6",
   "mimetype": "text/x-python",
   "codemirror_mode": {
    "name": "ipython",
    "version": 3
   },
   "pygments_lexer": "ipython3",
   "nbconvert_exporter": "python",
   "file_extension": ".py"
  },
  "kernelspec": {
   "name": "python3",
   "display_name": "Python 3.9.6 64-bit ('storefront-IGELShD9': venv)"
  },
  "interpreter": {
   "hash": "8b1e0257e972470d513e9c28714b940792ea083f619938dcef1380b020fbf00a"
  }
 },
 "nbformat": 4,
 "nbformat_minor": 2
}